{
 "cells": [
  {
   "cell_type": "code",
   "execution_count": 1,
   "id": "8d9e0131-37f0-4784-ad1a-f5ba4eb66eff",
   "metadata": {},
   "outputs": [],
   "source": [
    "import torch\n",
    "import pandas as pd\n",
    "import numpy as np\n",
    "import matplotlib.pyplot as plt"
   ]
  },
  {
   "cell_type": "code",
   "execution_count": 2,
   "id": "fe34bbe9-d4a1-4f7a-9042-2e16453d1a7f",
   "metadata": {},
   "outputs": [],
   "source": [
    "trainData = pd.read_csv(\"train.csv\")\n",
    "testData = pd.read_csv(\"test.csv\")"
   ]
  },
  {
   "cell_type": "code",
   "execution_count": 3,
   "id": "c24a1db5-88fd-4e2a-965d-a39db91c1794",
   "metadata": {},
   "outputs": [
    {
     "data": {
      "text/html": [
       "<div>\n",
       "<style scoped>\n",
       "    .dataframe tbody tr th:only-of-type {\n",
       "        vertical-align: middle;\n",
       "    }\n",
       "\n",
       "    .dataframe tbody tr th {\n",
       "        vertical-align: top;\n",
       "    }\n",
       "\n",
       "    .dataframe thead th {\n",
       "        text-align: right;\n",
       "    }\n",
       "</style>\n",
       "<table border=\"1\" class=\"dataframe\">\n",
       "  <thead>\n",
       "    <tr style=\"text-align: right;\">\n",
       "      <th></th>\n",
       "      <th>POS_0_9_CP</th>\n",
       "      <th>POS_10_19_CP</th>\n",
       "      <th>POS_20_29_CP</th>\n",
       "      <th>POS_30_39_CP</th>\n",
       "      <th>POS_40_49_CP</th>\n",
       "      <th>POS_50_59_CP</th>\n",
       "      <th>POS_60_69_CP</th>\n",
       "      <th>POS_70_79_CP</th>\n",
       "      <th>POS_80_89_CP</th>\n",
       "      <th>POS_90_CP</th>\n",
       "      <th>DTH_CUM_CP</th>\n",
       "    </tr>\n",
       "  </thead>\n",
       "  <tbody>\n",
       "    <tr>\n",
       "      <th>0</th>\n",
       "      <td>24</td>\n",
       "      <td>51</td>\n",
       "      <td>44</td>\n",
       "      <td>51</td>\n",
       "      <td>60</td>\n",
       "      <td>75</td>\n",
       "      <td>72</td>\n",
       "      <td>61</td>\n",
       "      <td>27</td>\n",
       "      <td>0</td>\n",
       "      <td>3</td>\n",
       "    </tr>\n",
       "    <tr>\n",
       "      <th>1</th>\n",
       "      <td>22</td>\n",
       "      <td>31</td>\n",
       "      <td>214</td>\n",
       "      <td>177</td>\n",
       "      <td>62</td>\n",
       "      <td>46</td>\n",
       "      <td>24</td>\n",
       "      <td>9</td>\n",
       "      <td>0</td>\n",
       "      <td>0</td>\n",
       "      <td>2</td>\n",
       "    </tr>\n",
       "    <tr>\n",
       "      <th>2</th>\n",
       "      <td>84</td>\n",
       "      <td>126</td>\n",
       "      <td>239</td>\n",
       "      <td>194</td>\n",
       "      <td>159</td>\n",
       "      <td>171</td>\n",
       "      <td>125</td>\n",
       "      <td>74</td>\n",
       "      <td>24</td>\n",
       "      <td>8</td>\n",
       "      <td>9</td>\n",
       "    </tr>\n",
       "    <tr>\n",
       "      <th>3</th>\n",
       "      <td>65</td>\n",
       "      <td>76</td>\n",
       "      <td>80</td>\n",
       "      <td>110</td>\n",
       "      <td>82</td>\n",
       "      <td>81</td>\n",
       "      <td>55</td>\n",
       "      <td>49</td>\n",
       "      <td>56</td>\n",
       "      <td>34</td>\n",
       "      <td>7</td>\n",
       "    </tr>\n",
       "    <tr>\n",
       "      <th>4</th>\n",
       "      <td>99</td>\n",
       "      <td>107</td>\n",
       "      <td>339</td>\n",
       "      <td>287</td>\n",
       "      <td>139</td>\n",
       "      <td>147</td>\n",
       "      <td>110</td>\n",
       "      <td>71</td>\n",
       "      <td>37</td>\n",
       "      <td>0</td>\n",
       "      <td>12</td>\n",
       "    </tr>\n",
       "    <tr>\n",
       "      <th>...</th>\n",
       "      <td>...</td>\n",
       "      <td>...</td>\n",
       "      <td>...</td>\n",
       "      <td>...</td>\n",
       "      <td>...</td>\n",
       "      <td>...</td>\n",
       "      <td>...</td>\n",
       "      <td>...</td>\n",
       "      <td>...</td>\n",
       "      <td>...</td>\n",
       "      <td>...</td>\n",
       "    </tr>\n",
       "    <tr>\n",
       "      <th>1039</th>\n",
       "      <td>86</td>\n",
       "      <td>201</td>\n",
       "      <td>206</td>\n",
       "      <td>202</td>\n",
       "      <td>240</td>\n",
       "      <td>317</td>\n",
       "      <td>225</td>\n",
       "      <td>138</td>\n",
       "      <td>48</td>\n",
       "      <td>0</td>\n",
       "      <td>7</td>\n",
       "    </tr>\n",
       "    <tr>\n",
       "      <th>1040</th>\n",
       "      <td>80</td>\n",
       "      <td>102</td>\n",
       "      <td>125</td>\n",
       "      <td>124</td>\n",
       "      <td>104</td>\n",
       "      <td>71</td>\n",
       "      <td>70</td>\n",
       "      <td>36</td>\n",
       "      <td>6</td>\n",
       "      <td>0</td>\n",
       "      <td>6</td>\n",
       "    </tr>\n",
       "    <tr>\n",
       "      <th>1041</th>\n",
       "      <td>268</td>\n",
       "      <td>358</td>\n",
       "      <td>277</td>\n",
       "      <td>415</td>\n",
       "      <td>355</td>\n",
       "      <td>332</td>\n",
       "      <td>215</td>\n",
       "      <td>107</td>\n",
       "      <td>47</td>\n",
       "      <td>7</td>\n",
       "      <td>5</td>\n",
       "    </tr>\n",
       "    <tr>\n",
       "      <th>1042</th>\n",
       "      <td>81</td>\n",
       "      <td>116</td>\n",
       "      <td>90</td>\n",
       "      <td>145</td>\n",
       "      <td>118</td>\n",
       "      <td>113</td>\n",
       "      <td>70</td>\n",
       "      <td>36</td>\n",
       "      <td>9</td>\n",
       "      <td>0</td>\n",
       "      <td>2</td>\n",
       "    </tr>\n",
       "    <tr>\n",
       "      <th>1043</th>\n",
       "      <td>118</td>\n",
       "      <td>156</td>\n",
       "      <td>197</td>\n",
       "      <td>215</td>\n",
       "      <td>114</td>\n",
       "      <td>114</td>\n",
       "      <td>83</td>\n",
       "      <td>19</td>\n",
       "      <td>0</td>\n",
       "      <td>0</td>\n",
       "      <td>5</td>\n",
       "    </tr>\n",
       "  </tbody>\n",
       "</table>\n",
       "<p>1044 rows × 11 columns</p>\n",
       "</div>"
      ],
      "text/plain": [
       "      POS_0_9_CP  POS_10_19_CP  POS_20_29_CP  POS_30_39_CP  POS_40_49_CP  \\\n",
       "0             24            51            44            51            60   \n",
       "1             22            31           214           177            62   \n",
       "2             84           126           239           194           159   \n",
       "3             65            76            80           110            82   \n",
       "4             99           107           339           287           139   \n",
       "...          ...           ...           ...           ...           ...   \n",
       "1039          86           201           206           202           240   \n",
       "1040          80           102           125           124           104   \n",
       "1041         268           358           277           415           355   \n",
       "1042          81           116            90           145           118   \n",
       "1043         118           156           197           215           114   \n",
       "\n",
       "      POS_50_59_CP  POS_60_69_CP  POS_70_79_CP  POS_80_89_CP  POS_90_CP  \\\n",
       "0               75            72            61            27          0   \n",
       "1               46            24             9             0          0   \n",
       "2              171           125            74            24          8   \n",
       "3               81            55            49            56         34   \n",
       "4              147           110            71            37          0   \n",
       "...            ...           ...           ...           ...        ...   \n",
       "1039           317           225           138            48          0   \n",
       "1040            71            70            36             6          0   \n",
       "1041           332           215           107            47          7   \n",
       "1042           113            70            36             9          0   \n",
       "1043           114            83            19             0          0   \n",
       "\n",
       "      DTH_CUM_CP  \n",
       "0              3  \n",
       "1              2  \n",
       "2              9  \n",
       "3              7  \n",
       "4             12  \n",
       "...          ...  \n",
       "1039           7  \n",
       "1040           6  \n",
       "1041           5  \n",
       "1042           2  \n",
       "1043           5  \n",
       "\n",
       "[1044 rows x 11 columns]"
      ]
     },
     "execution_count": 3,
     "metadata": {},
     "output_type": "execute_result"
    }
   ],
   "source": [
    "trainData"
   ]
  },
  {
   "cell_type": "code",
   "execution_count": 4,
   "id": "5af7399a-7088-4fcf-88d5-933d43c8a720",
   "metadata": {},
   "outputs": [
    {
     "data": {
      "text/html": [
       "<div>\n",
       "<style scoped>\n",
       "    .dataframe tbody tr th:only-of-type {\n",
       "        vertical-align: middle;\n",
       "    }\n",
       "\n",
       "    .dataframe tbody tr th {\n",
       "        vertical-align: top;\n",
       "    }\n",
       "\n",
       "    .dataframe thead th {\n",
       "        text-align: right;\n",
       "    }\n",
       "</style>\n",
       "<table border=\"1\" class=\"dataframe\">\n",
       "  <thead>\n",
       "    <tr style=\"text-align: right;\">\n",
       "      <th></th>\n",
       "      <th>POS_0_9_CP</th>\n",
       "      <th>POS_10_19_CP</th>\n",
       "      <th>POS_20_29_CP</th>\n",
       "      <th>POS_30_39_CP</th>\n",
       "      <th>POS_40_49_CP</th>\n",
       "      <th>POS_50_59_CP</th>\n",
       "      <th>POS_60_69_CP</th>\n",
       "      <th>POS_70_79_CP</th>\n",
       "      <th>POS_80_89_CP</th>\n",
       "      <th>POS_90_CP</th>\n",
       "      <th>DTH_CUM_CP</th>\n",
       "    </tr>\n",
       "  </thead>\n",
       "  <tbody>\n",
       "    <tr>\n",
       "      <th>0</th>\n",
       "      <td>53</td>\n",
       "      <td>110</td>\n",
       "      <td>80</td>\n",
       "      <td>91</td>\n",
       "      <td>103</td>\n",
       "      <td>134</td>\n",
       "      <td>131</td>\n",
       "      <td>83</td>\n",
       "      <td>38</td>\n",
       "      <td>0</td>\n",
       "      <td>9</td>\n",
       "    </tr>\n",
       "    <tr>\n",
       "      <th>1</th>\n",
       "      <td>48</td>\n",
       "      <td>104</td>\n",
       "      <td>102</td>\n",
       "      <td>133</td>\n",
       "      <td>154</td>\n",
       "      <td>202</td>\n",
       "      <td>118</td>\n",
       "      <td>104</td>\n",
       "      <td>72</td>\n",
       "      <td>67</td>\n",
       "      <td>26</td>\n",
       "    </tr>\n",
       "    <tr>\n",
       "      <th>2</th>\n",
       "      <td>45</td>\n",
       "      <td>67</td>\n",
       "      <td>81</td>\n",
       "      <td>99</td>\n",
       "      <td>66</td>\n",
       "      <td>74</td>\n",
       "      <td>38</td>\n",
       "      <td>18</td>\n",
       "      <td>11</td>\n",
       "      <td>0</td>\n",
       "      <td>2</td>\n",
       "    </tr>\n",
       "    <tr>\n",
       "      <th>3</th>\n",
       "      <td>61</td>\n",
       "      <td>77</td>\n",
       "      <td>121</td>\n",
       "      <td>107</td>\n",
       "      <td>65</td>\n",
       "      <td>55</td>\n",
       "      <td>35</td>\n",
       "      <td>15</td>\n",
       "      <td>8</td>\n",
       "      <td>0</td>\n",
       "      <td>7</td>\n",
       "    </tr>\n",
       "    <tr>\n",
       "      <th>4</th>\n",
       "      <td>123</td>\n",
       "      <td>137</td>\n",
       "      <td>177</td>\n",
       "      <td>163</td>\n",
       "      <td>193</td>\n",
       "      <td>147</td>\n",
       "      <td>115</td>\n",
       "      <td>86</td>\n",
       "      <td>29</td>\n",
       "      <td>9</td>\n",
       "      <td>9</td>\n",
       "    </tr>\n",
       "    <tr>\n",
       "      <th>...</th>\n",
       "      <td>...</td>\n",
       "      <td>...</td>\n",
       "      <td>...</td>\n",
       "      <td>...</td>\n",
       "      <td>...</td>\n",
       "      <td>...</td>\n",
       "      <td>...</td>\n",
       "      <td>...</td>\n",
       "      <td>...</td>\n",
       "      <td>...</td>\n",
       "      <td>...</td>\n",
       "    </tr>\n",
       "    <tr>\n",
       "      <th>343</th>\n",
       "      <td>115</td>\n",
       "      <td>195</td>\n",
       "      <td>236</td>\n",
       "      <td>328</td>\n",
       "      <td>233</td>\n",
       "      <td>225</td>\n",
       "      <td>176</td>\n",
       "      <td>79</td>\n",
       "      <td>28</td>\n",
       "      <td>6</td>\n",
       "      <td>24</td>\n",
       "    </tr>\n",
       "    <tr>\n",
       "      <th>344</th>\n",
       "      <td>79</td>\n",
       "      <td>137</td>\n",
       "      <td>250</td>\n",
       "      <td>218</td>\n",
       "      <td>164</td>\n",
       "      <td>205</td>\n",
       "      <td>146</td>\n",
       "      <td>51</td>\n",
       "      <td>28</td>\n",
       "      <td>0</td>\n",
       "      <td>14</td>\n",
       "    </tr>\n",
       "    <tr>\n",
       "      <th>345</th>\n",
       "      <td>204</td>\n",
       "      <td>215</td>\n",
       "      <td>383</td>\n",
       "      <td>341</td>\n",
       "      <td>234</td>\n",
       "      <td>224</td>\n",
       "      <td>184</td>\n",
       "      <td>84</td>\n",
       "      <td>23</td>\n",
       "      <td>8</td>\n",
       "      <td>10</td>\n",
       "    </tr>\n",
       "    <tr>\n",
       "      <th>346</th>\n",
       "      <td>50</td>\n",
       "      <td>116</td>\n",
       "      <td>100</td>\n",
       "      <td>90</td>\n",
       "      <td>113</td>\n",
       "      <td>139</td>\n",
       "      <td>115</td>\n",
       "      <td>60</td>\n",
       "      <td>27</td>\n",
       "      <td>9</td>\n",
       "      <td>11</td>\n",
       "    </tr>\n",
       "    <tr>\n",
       "      <th>347</th>\n",
       "      <td>30</td>\n",
       "      <td>47</td>\n",
       "      <td>61</td>\n",
       "      <td>90</td>\n",
       "      <td>81</td>\n",
       "      <td>88</td>\n",
       "      <td>63</td>\n",
       "      <td>27</td>\n",
       "      <td>15</td>\n",
       "      <td>0</td>\n",
       "      <td>5</td>\n",
       "    </tr>\n",
       "  </tbody>\n",
       "</table>\n",
       "<p>348 rows × 11 columns</p>\n",
       "</div>"
      ],
      "text/plain": [
       "     POS_0_9_CP  POS_10_19_CP  POS_20_29_CP  POS_30_39_CP  POS_40_49_CP  \\\n",
       "0            53           110            80            91           103   \n",
       "1            48           104           102           133           154   \n",
       "2            45            67            81            99            66   \n",
       "3            61            77           121           107            65   \n",
       "4           123           137           177           163           193   \n",
       "..          ...           ...           ...           ...           ...   \n",
       "343         115           195           236           328           233   \n",
       "344          79           137           250           218           164   \n",
       "345         204           215           383           341           234   \n",
       "346          50           116           100            90           113   \n",
       "347          30            47            61            90            81   \n",
       "\n",
       "     POS_50_59_CP  POS_60_69_CP  POS_70_79_CP  POS_80_89_CP  POS_90_CP  \\\n",
       "0             134           131            83            38          0   \n",
       "1             202           118           104            72         67   \n",
       "2              74            38            18            11          0   \n",
       "3              55            35            15             8          0   \n",
       "4             147           115            86            29          9   \n",
       "..            ...           ...           ...           ...        ...   \n",
       "343           225           176            79            28          6   \n",
       "344           205           146            51            28          0   \n",
       "345           224           184            84            23          8   \n",
       "346           139           115            60            27          9   \n",
       "347            88            63            27            15          0   \n",
       "\n",
       "     DTH_CUM_CP  \n",
       "0             9  \n",
       "1            26  \n",
       "2             2  \n",
       "3             7  \n",
       "4             9  \n",
       "..          ...  \n",
       "343          24  \n",
       "344          14  \n",
       "345          10  \n",
       "346          11  \n",
       "347           5  \n",
       "\n",
       "[348 rows x 11 columns]"
      ]
     },
     "execution_count": 4,
     "metadata": {},
     "output_type": "execute_result"
    }
   ],
   "source": [
    "testData"
   ]
  },
  {
   "cell_type": "code",
   "execution_count": 5,
   "id": "323244df-efc9-4b5a-8d52-c5270f3583ef",
   "metadata": {},
   "outputs": [],
   "source": [
    "np_train = np.array(trainData)\n",
    "np_test = np.array(testData)"
   ]
  },
  {
   "cell_type": "code",
   "execution_count": 6,
   "id": "43caac6f-11f2-422a-9c9b-871ba940490e",
   "metadata": {},
   "outputs": [],
   "source": [
    "train = torch.from_numpy(np_train)   # numpy to tensor\n",
    "train = train.to(torch.float64)\n",
    "test = torch.from_numpy(np_test)     # numpy to tensor\n",
    "test = test.to(torch.float64)"
   ]
  },
  {
   "cell_type": "code",
   "execution_count": 7,
   "id": "3c9af606-e88e-4e50-b353-81ac5f371878",
   "metadata": {},
   "outputs": [
    {
     "data": {
      "text/plain": [
       "tensor([[ 24.,  51.,  44.,  ...,  27.,   0.,   3.],\n",
       "        [ 22.,  31., 214.,  ...,   0.,   0.,   2.],\n",
       "        [ 84., 126., 239.,  ...,  24.,   8.,   9.],\n",
       "        ...,\n",
       "        [268., 358., 277.,  ...,  47.,   7.,   5.],\n",
       "        [ 81., 116.,  90.,  ...,   9.,   0.,   2.],\n",
       "        [118., 156., 197.,  ...,   0.,   0.,   5.]], dtype=torch.float64)"
      ]
     },
     "execution_count": 7,
     "metadata": {},
     "output_type": "execute_result"
    }
   ],
   "source": [
    "train"
   ]
  },
  {
   "cell_type": "code",
   "execution_count": 8,
   "id": "bfe3a8c8-e3e3-49cb-bb60-cb3a48b609c2",
   "metadata": {},
   "outputs": [],
   "source": [
    "trainX = train[:, :-1]\n",
    "trainY = train[:, -1]\n",
    "trainY = trainY.view(-1, 1)"
   ]
  },
  {
   "cell_type": "code",
   "execution_count": 9,
   "id": "27ab8c25-9f4f-435c-93a7-4200b7af4551",
   "metadata": {},
   "outputs": [],
   "source": [
    "testX = test[:, :-1]\n",
    "testY = test[:, -1]\n",
    "testY = testY.view(-1, 1)"
   ]
  },
  {
   "cell_type": "code",
   "execution_count": 10,
   "id": "0c20bdbf-515c-48a3-8d4c-457de770dea0",
   "metadata": {},
   "outputs": [
    {
     "data": {
      "text/plain": [
       "83520"
      ]
     },
     "execution_count": 10,
     "metadata": {},
     "output_type": "execute_result"
    }
   ],
   "source": [
    "#q1\n",
    "byteSize = trainX.nelement() * trainX.element_size()\n",
    "byteSize"
   ]
  },
  {
   "cell_type": "code",
   "execution_count": 11,
   "id": "a429884b-612e-4abb-86d8-e4dfd376e242",
   "metadata": {},
   "outputs": [
    {
     "data": {
      "text/plain": [
       "0.0"
      ]
     },
     "execution_count": 11,
     "metadata": {},
     "output_type": "execute_result"
    }
   ],
   "source": [
    "#q2\n",
    "tempTrainX = trainX.to(torch.float16)\n",
    "tempTrainX2 = tempTrainX.to(torch.float64)\n",
    "diffMatrix = trainX - tempTrainX2\n",
    "maxAbsDiff = float(torch.max(diffMatrix))\n",
    "maxAbsDiff"
   ]
  },
  {
   "cell_type": "code",
   "execution_count": 12,
   "id": "4a232dd4-600d-4366-bea6-d32a5c714aae",
   "metadata": {},
   "outputs": [
    {
     "data": {
      "text/plain": [
       "False"
      ]
     },
     "execution_count": 12,
     "metadata": {},
     "output_type": "execute_result"
    }
   ],
   "source": [
    "#q3\n",
    "torch.cuda.is_available()"
   ]
  },
  {
   "cell_type": "code",
   "execution_count": 13,
   "id": "f931bbaf-0aba-4caf-9d0f-6f6d39be1147",
   "metadata": {},
   "outputs": [
    {
     "data": {
      "text/plain": [
       "tensor([[0.0040],\n",
       "        [0.0040],\n",
       "        [0.0040],\n",
       "        [0.0040],\n",
       "        [0.0040],\n",
       "        [0.0040],\n",
       "        [0.0300],\n",
       "        [0.0300],\n",
       "        [0.0300],\n",
       "        [0.0300]], dtype=torch.float64)"
      ]
     },
     "execution_count": 13,
     "metadata": {},
     "output_type": "execute_result"
    }
   ],
   "source": [
    "coef = torch.tensor([\n",
    "        [0.0040],\n",
    "        [0.0040],\n",
    "        [0.0040],\n",
    "        [0.0040],\n",
    "        [0.0040],\n",
    "        [0.0040], # POS_50_59_CP\n",
    "        [0.0300], # POS_60_69_CP\n",
    "        [0.0300],\n",
    "        [0.0300],\n",
    "        [0.0300]\n",
    "], dtype=trainX.dtype)\n",
    "coef"
   ]
  },
  {
   "cell_type": "code",
   "execution_count": 14,
   "id": "175848c0-6be9-4d5a-b921-d8bd154025d1",
   "metadata": {},
   "outputs": [
    {
     "data": {
      "text/plain": [
       "9.844"
      ]
     },
     "execution_count": 14,
     "metadata": {},
     "output_type": "execute_result"
    }
   ],
   "source": [
    "#q4\n",
    "predictedDeathsRowOne = testX[0] @ coef\n",
    "resultQ4 = predictedDeathsRowOne.item()\n",
    "resultQ4"
   ]
  },
  {
   "cell_type": "code",
   "execution_count": 15,
   "id": "df15a78b-1385-4fcd-8de0-795256734083",
   "metadata": {},
   "outputs": [
    {
     "data": {
      "text/plain": [
       "12.073632183908048"
      ]
     },
     "execution_count": 15,
     "metadata": {},
     "output_type": "execute_result"
    }
   ],
   "source": [
    "#q5\n",
    "predictedDeathsAll = testX @ coef\n",
    "predictedDeathsAll\n",
    "resultQ5 = torch.mean(predictedDeathsAll)\n",
    "resultQ5.item()"
   ]
  },
  {
   "cell_type": "code",
   "execution_count": 16,
   "id": "d9f704ae-5014-416f-b4f1-6b334a6478d3",
   "metadata": {},
   "outputs": [
    {
     "data": {
      "text/plain": [
       "19.0"
      ]
     },
     "execution_count": 16,
     "metadata": {},
     "output_type": "execute_result"
    }
   ],
   "source": [
    "#q6\n",
    "def f(x):\n",
    "    return x * x - 8 * x + 19\n",
    "\n",
    "x = torch.tensor(0.0)\n",
    "y = f(x)\n",
    "float(y)"
   ]
  },
  {
   "cell_type": "code",
   "execution_count": 17,
   "id": "2974a488-066a-409d-bd56-7712a104829d",
   "metadata": {},
   "outputs": [
    {
     "data": {
      "text/plain": [
       "3.9999940395355225"
      ]
     },
     "execution_count": 17,
     "metadata": {},
     "output_type": "execute_result"
    }
   ],
   "source": [
    "#q7\n",
    "x = torch.tensor(0.0, requires_grad=True)\n",
    "optimizer = torch.optim.SGD([x], lr=0.01) # minimizes by default\n",
    "\n",
    "for epoch in range(1000):\n",
    "    y = f(x)\n",
    "    y.backward()\n",
    "    optimizer.step()\n",
    "    optimizer.zero_grad()\n",
    "\n",
    "x.item()"
   ]
  },
  {
   "cell_type": "code",
   "execution_count": 18,
   "id": "705f6121-f67e-4e0e-8396-b1677dc09e27",
   "metadata": {},
   "outputs": [
    {
     "data": {
      "text/plain": [
       "197.8007662835249"
      ]
     },
     "execution_count": 18,
     "metadata": {},
     "output_type": "execute_result"
    }
   ],
   "source": [
    "#q8\n",
    "loss_fn = torch.nn.MSELoss()\n",
    "coef = torch.zeros((10, 1), dtype=torch.float64, requires_grad=True)\n",
    "predictions = trainX @ coef\n",
    "mse = loss_fn(predictions, trainY)\n",
    "mse.item()"
   ]
  },
  {
   "cell_type": "code",
   "execution_count": 19,
   "id": "aa1d6f0c-1dba-4893-990d-9784ba07f846",
   "metadata": {},
   "outputs": [],
   "source": [
    "torch.manual_seed(544)\n",
    "ds = torch.utils.data.TensorDataset(trainX, trainY)\n",
    "dl = torch.utils.data.DataLoader(ds, batch_size=50, shuffle=True)"
   ]
  },
  {
   "cell_type": "code",
   "execution_count": 20,
   "id": "c0f240de-a750-45c8-950c-df726764f088",
   "metadata": {},
   "outputs": [],
   "source": [
    "loss_fn = torch.nn.MSELoss()\n",
    "coef = torch.zeros((10, 1), dtype=torch.float64, requires_grad=True)\n",
    "optimizer = torch.optim.SGD([coef], lr=0.000002)\n",
    "\n",
    "for epoch in range(500):\n",
    "    for batchX, batchY in dl:\n",
    "        predictions = batchX @ coef\n",
    "        loss = loss_fn(predictions, batchY)\n",
    "        loss.backward()    # computes gradient, and adds it to coef. grad\n",
    "        optimizer.step()\n",
    "        optimizer.zero_grad()"
   ]
  },
  {
   "cell_type": "code",
   "execution_count": 21,
   "id": "95996958-ebfb-4937-b719-2a5a33a28dde",
   "metadata": {},
   "outputs": [
    {
     "data": {
      "text/plain": [
       "26.8113940147193"
      ]
     },
     "execution_count": 21,
     "metadata": {},
     "output_type": "execute_result"
    }
   ],
   "source": [
    "#q9\n",
    "loss_fn(trainX @ coef, trainY).item()"
   ]
  },
  {
   "cell_type": "code",
   "execution_count": 22,
   "id": "d78ac6d1-ef64-46e9-9df7-a5e775634232",
   "metadata": {},
   "outputs": [
    {
     "data": {
      "text/plain": [
       "29.05854692548551"
      ]
     },
     "execution_count": 22,
     "metadata": {},
     "output_type": "execute_result"
    }
   ],
   "source": [
    "#q10\n",
    "loss_fn(testX @ coef, testY).item()"
   ]
  }
 ],
 "metadata": {
  "kernelspec": {
   "display_name": "Python 3 (ipykernel)",
   "language": "python",
   "name": "python3"
  },
  "language_info": {
   "codemirror_mode": {
    "name": "ipython",
    "version": 3
   },
   "file_extension": ".py",
   "mimetype": "text/x-python",
   "name": "python",
   "nbconvert_exporter": "python",
   "pygments_lexer": "ipython3",
   "version": "3.11.5"
  }
 },
 "nbformat": 4,
 "nbformat_minor": 5
}
